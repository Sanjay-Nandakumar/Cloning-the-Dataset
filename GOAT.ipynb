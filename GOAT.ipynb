{
  "nbformat": 4,
  "nbformat_minor": 0,
  "metadata": {
    "colab": {
      "provenance": []
    },
    "kernelspec": {
      "name": "python3",
      "display_name": "Python 3"
    },
    "language_info": {
      "name": "python"
    }
  },
  "cells": [
    {
      "cell_type": "code",
      "execution_count": null,
      "metadata": {
        "id": "oIa7Gl7Pu1MZ"
      },
      "outputs": [],
      "source": []
    },
    {
      "cell_type": "markdown",
      "source": [
        "# **Cloning Data: Creating Synthetic Datasets**"
      ],
      "metadata": {
        "id": "eMJMRbT6u5fJ"
      }
    },
    {
      "cell_type": "code",
      "source": [
        "from sklearn.datasets import make_classification\n",
        "import pandas as pd\n",
        "\n",
        "def generate_synthetic_data(samples=1000, features=10, classes=2):\n",
        "    X, y = make_classification(n_samples=samples, n_features=features,\n",
        "                               n_informative=5, n_classes=classes,\n",
        "                               random_state=42)\n",
        "    return pd.DataFrame(X, columns=[f'Feature_{i}' for i in range(features)])\n",
        "\n",
        "synthetic_data = generate_synthetic_data()\n",
        "print(synthetic_data.head())\n"
      ],
      "metadata": {
        "colab": {
          "base_uri": "https://localhost:8080/"
        },
        "id": "tbsViZCRu221",
        "outputId": "f257513a-3b71-4e0d-bb47-b24b6583d415"
      },
      "execution_count": 1,
      "outputs": [
        {
          "output_type": "stream",
          "name": "stdout",
          "text": [
            "   Feature_0  Feature_1  Feature_2  Feature_3  Feature_4  Feature_5  \\\n",
            "0   1.125100   1.178124   0.493516   0.790880  -0.614278   1.347020   \n",
            "1  -0.564641   3.638629  -1.522415  -1.541705   1.616697   4.781310   \n",
            "2   0.516313   2.165426  -0.628486  -0.386923   0.492518   1.442381   \n",
            "3   0.537282   0.966618  -0.115420   0.670755  -0.958516   0.871440   \n",
            "4   0.278385   1.065828  -1.724917  -2.235667   0.715107   0.731249   \n",
            "\n",
            "   Feature_6  Feature_7  Feature_8  Feature_9  \n",
            "0   1.419515   1.357325   0.966041  -1.981139  \n",
            "1   3.190292  -0.890254   1.438826  -3.828748  \n",
            "2   1.332905  -1.958175  -0.348803  -1.804124  \n",
            "3   0.508186  -1.034471  -1.654176  -1.910503  \n",
            "4  -0.674119   0.598330  -0.524283   1.047610  \n"
          ]
        }
      ]
    },
    {
      "cell_type": "markdown",
      "source": [
        "# **Statistical Cloning with Bootstrapping**"
      ],
      "metadata": {
        "id": "JHs1o3WKvXiP"
      }
    },
    {
      "cell_type": "code",
      "source": [
        "import random\n",
        "\n",
        "def bootstrap_sample(data, n_samples):\n",
        "    samples = [random.choices(data, k=len(data)) for _ in range(n_samples)]\n",
        "    return samples\n",
        "\n",
        "data = [5, 10, 15, 20, 25]\n",
        "bootstrap_samples = bootstrap_sample(data, 3)\n",
        "print(bootstrap_samples)\n"
      ],
      "metadata": {
        "colab": {
          "base_uri": "https://localhost:8080/"
        },
        "id": "Wm5BK-tOvYV7",
        "outputId": "be2dad4e-ca0b-4eeb-cbe2-eddd6cee697f"
      },
      "execution_count": 2,
      "outputs": [
        {
          "output_type": "stream",
          "name": "stdout",
          "text": [
            "[[25, 15, 10, 25, 10], [25, 20, 5, 5, 15], [15, 25, 25, 15, 10]]\n"
          ]
        }
      ]
    },
    {
      "cell_type": "markdown",
      "source": [
        "# **Cloning Models: Transfer Learning**"
      ],
      "metadata": {
        "id": "SxjYwAZnvc4M"
      }
    },
    {
      "cell_type": "code",
      "source": [
        "from tensorflow.keras.applications import VGG16\n",
        "from tensorflow.keras.models import Sequential\n",
        "from tensorflow.keras.layers import Dense, Flatten\n",
        "\n",
        "base_model = VGG16(include_top=False, input_shape=(224, 224, 3))\n",
        "model = Sequential([base_model, Flatten(), Dense(256, activation='relu'),\n",
        "                    Dense(10, activation='softmax')])\n"
      ],
      "metadata": {
        "colab": {
          "base_uri": "https://localhost:8080/"
        },
        "id": "6_KFgSijvdv6",
        "outputId": "81132746-79c1-476f-c279-7dbaaab6e5df"
      },
      "execution_count": 3,
      "outputs": [
        {
          "output_type": "stream",
          "name": "stdout",
          "text": [
            "Downloading data from https://storage.googleapis.com/tensorflow/keras-applications/vgg16/vgg16_weights_tf_dim_ordering_tf_kernels_notop.h5\n",
            "\u001b[1m58889256/58889256\u001b[0m \u001b[32m━━━━━━━━━━━━━━━━━━━━\u001b[0m\u001b[37m\u001b[0m \u001b[1m0s\u001b[0m 0us/step\n"
          ]
        }
      ]
    },
    {
      "cell_type": "markdown",
      "source": [
        "# **Deep Learning Clones: Generative Adversarial Networks (GANs)**"
      ],
      "metadata": {
        "id": "oCqC0ceavik1"
      }
    },
    {
      "cell_type": "code",
      "source": [
        "import tensorflow as tf\n",
        "from tensorflow.keras import layers\n",
        "\n",
        "def build_generator():\n",
        "    model = tf.keras.Sequential([\n",
        "        layers.Dense(128, activation='relu', input_shape=(100,)),\n",
        "        layers.Dense(256, activation='relu'),\n",
        "        layers.Dense(512, activation='relu'),\n",
        "        layers.Dense(784, activation='tanh')\n",
        "    ])\n",
        "    return model\n",
        "\n",
        "generator = build_generator()\n",
        "random_noise = tf.random.normal([1, 100])\n",
        "fake_image = generator(random_noise)\n",
        "print(fake_image.shape)\n"
      ],
      "metadata": {
        "colab": {
          "base_uri": "https://localhost:8080/"
        },
        "id": "74lwg-mfvjiD",
        "outputId": "bb1c7b76-fce4-42c6-a9bc-91d4eddc4e91"
      },
      "execution_count": 4,
      "outputs": [
        {
          "output_type": "stream",
          "name": "stdout",
          "text": [
            "(1, 784)\n"
          ]
        },
        {
          "output_type": "stream",
          "name": "stderr",
          "text": [
            "/usr/local/lib/python3.10/dist-packages/keras/src/layers/core/dense.py:87: UserWarning: Do not pass an `input_shape`/`input_dim` argument to a layer. When using Sequential models, prefer using an `Input(shape)` object as the first layer in the model instead.\n",
            "  super().__init__(activity_regularizer=activity_regularizer, **kwargs)\n"
          ]
        }
      ]
    },
    {
      "cell_type": "markdown",
      "source": [
        "# **Reinforcement Learning and Behavior Cloning**"
      ],
      "metadata": {
        "id": "GGwtYqnOvnU3"
      }
    },
    {
      "cell_type": "code",
      "source": [
        "import numpy as np\n",
        "\n",
        "class Agent:\n",
        "    def __init__(self):\n",
        "        # Initialize a random policy with 4 actions\n",
        "        self.policy = np.random.rand(4)\n",
        "\n",
        "    def choose_action(self, state):\n",
        "        # Choose the action with the highest value in the policy array\n",
        "        return np.argmax(self.policy)\n",
        "\n",
        "    def train(self, expert_data):\n",
        "        # Update policy based on expert data\n",
        "        for state, action in expert_data:\n",
        "            # Update policy action to reflect expert's choice\n",
        "            self.policy[action] += 0.1  # Increment policy value for chosen action\n",
        "\n",
        "# Example expert data with 5 states and chosen action 0 (as an example)\n",
        "expert_data = [(state, 0) for state in range(5)]\n",
        "agent = Agent()\n",
        "\n",
        "# Train the agent with expert data\n",
        "agent.train(expert_data)\n",
        "\n",
        "print(\"Cloned Policy:\", agent.policy)\n"
      ],
      "metadata": {
        "colab": {
          "base_uri": "https://localhost:8080/"
        },
        "id": "anwhREwyvoIM",
        "outputId": "4d70dbe6-ea1a-43c9-9936-7ce8a7a3d473"
      },
      "execution_count": 6,
      "outputs": [
        {
          "output_type": "stream",
          "name": "stdout",
          "text": [
            "Cloned Policy: [0.96847731 0.88019467 0.48473932 0.69589029]\n"
          ]
        }
      ]
    }
  ]
}